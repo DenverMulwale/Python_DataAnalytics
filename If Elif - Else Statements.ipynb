{
 "cells": [
  {
   "cell_type": "markdown",
   "id": "c669e5de",
   "metadata": {},
   "source": [
    "# If - Elif - Else Statements"
   ]
  },
  {
   "cell_type": "code",
   "execution_count": 11,
   "id": "ed8cde84",
   "metadata": {},
   "outputs": [
    {
     "name": "stdout",
     "output_type": "stream",
     "text": [
      "It Worked!\n"
     ]
    }
   ],
   "source": [
    "#Comparison Operator\n",
    "\n",
    "if 25 > 10:\n",
    "    print('It Worked!')"
   ]
  },
  {
   "cell_type": "code",
   "execution_count": 5,
   "id": "e1538ab0",
   "metadata": {},
   "outputs": [
    {
     "name": "stdout",
     "output_type": "stream",
     "text": [
      "It did not work!\n"
     ]
    }
   ],
   "source": [
    "if 25 < 10:\n",
    "    print('It Worked!')\n",
    "    \n",
    "else:\n",
    "    print('It did not work!')"
   ]
  },
  {
   "cell_type": "code",
   "execution_count": 6,
   "id": "87dc3338",
   "metadata": {},
   "outputs": [
    {
     "name": "stdout",
     "output_type": "stream",
     "text": [
      "It Worked!\n"
     ]
    }
   ],
   "source": [
    "if 25 > 10:\n",
    "    print('It Worked!')\n",
    "    \n",
    "else:\n",
    "    print('It did not work!')"
   ]
  },
  {
   "cell_type": "code",
   "execution_count": 8,
   "id": "0132d110",
   "metadata": {},
   "outputs": [
    {
     "name": "stdout",
     "output_type": "stream",
     "text": [
      "elif worked!\n"
     ]
    }
   ],
   "source": [
    "if 25 < 10:\n",
    "    print('It Worked!')\n",
    "elif 25 < 30:\n",
    "    print('elif worked!')\n",
    "else:\n",
    "    print('It did not work!')"
   ]
  },
  {
   "cell_type": "code",
   "execution_count": 10,
   "id": "138ff721",
   "metadata": {},
   "outputs": [
    {
     "name": "stdout",
     "output_type": "stream",
     "text": [
      "elif 3 worked!\n"
     ]
    }
   ],
   "source": [
    "if 25 < 10:\n",
    "    print('It Worked!')\n",
    "elif 25 < 20:\n",
    "    print('elif worked!')\n",
    "elif 25 < 21:\n",
    "    print('elif 2 worked!')\n",
    "elif 25 < 40:\n",
    "    print('elif 3 worked!')\n",
    "elif 25 < 50:\n",
    "    print('elif 4 worked!')\n",
    "else:\n",
    "    print('It did not work!')"
   ]
  },
  {
   "cell_type": "code",
   "execution_count": 12,
   "id": "340c90ee",
   "metadata": {},
   "outputs": [
    {
     "name": "stdout",
     "output_type": "stream",
     "text": [
      "It Worked!\n"
     ]
    }
   ],
   "source": [
    "#Logical Operator\n",
    "\n",
    "\n",
    "if (25 < 10) or (1 <3 ):\n",
    "    print('It Worked!')\n"
   ]
  },
  {
   "cell_type": "code",
   "execution_count": 13,
   "id": "7a683a1d",
   "metadata": {},
   "outputs": [
    {
     "name": "stdout",
     "output_type": "stream",
     "text": [
      "It did not work...\n"
     ]
    }
   ],
   "source": [
    "print ('It Worked!') if 10>30 else print('It did not work...')"
   ]
  },
  {
   "cell_type": "code",
   "execution_count": 14,
   "id": "1a744ea9",
   "metadata": {},
   "outputs": [
    {
     "name": "stdout",
     "output_type": "stream",
     "text": [
      "It Worked!\n",
      "This nested if statement worked!\n"
     ]
    }
   ],
   "source": [
    "#Nested if statement\n",
    "\n",
    "if (25 < 10) or (1 <3 ):\n",
    "    print('It Worked!')\n",
    "    if 10 > 5:\n",
    "        print('This nested if statement worked!')"
   ]
  },
  {
   "cell_type": "code",
   "execution_count": null,
   "id": "c2c7aa07",
   "metadata": {},
   "outputs": [],
   "source": []
  },
  {
   "cell_type": "code",
   "execution_count": null,
   "id": "14e30d06",
   "metadata": {},
   "outputs": [],
   "source": []
  }
 ],
 "metadata": {
  "kernelspec": {
   "display_name": "Python 3 (ipykernel)",
   "language": "python",
   "name": "python3"
  },
  "language_info": {
   "codemirror_mode": {
    "name": "ipython",
    "version": 3
   },
   "file_extension": ".py",
   "mimetype": "text/x-python",
   "name": "python",
   "nbconvert_exporter": "python",
   "pygments_lexer": "ipython3",
   "version": "3.10.9"
  }
 },
 "nbformat": 4,
 "nbformat_minor": 5
}
