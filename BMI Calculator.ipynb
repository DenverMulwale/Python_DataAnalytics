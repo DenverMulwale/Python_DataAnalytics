{
 "cells": [
  {
   "cell_type": "markdown",
   "id": "db15448b",
   "metadata": {},
   "source": [
    "# BMI Calculator"
   ]
  },
  {
   "cell_type": "code",
   "execution_count": 17,
   "id": "ea3135ae",
   "metadata": {},
   "outputs": [
    {
     "name": "stdout",
     "output_type": "stream",
     "text": [
      "Enter your name: Denvar Mulwale\n",
      "Enter your weight in pounds: 170\n",
      "Enter your height in inches: 69\n",
      "25.101869355177485\n",
      "Denvar Mulwale, You are OverWeight\n"
     ]
    }
   ],
   "source": [
    "name = input(\"Enter your name: \")\n",
    "weight = int(input(\"Enter your weight in pounds: \"))\n",
    "\n",
    "height = int(input(\"Enter your height in inches: \"))\n",
    "\n",
    "BMI = (weight * 703)/ (height*height)\n",
    "\n",
    "print (BMI)\n",
    "\n",
    "if BMI >0:\n",
    "    if (BMI<18.5):\n",
    "        print(name +\", You are Underweight\")\n",
    "    elif (BMI<=24.9):\n",
    "        print(name + \", You are Normal Weight\")\n",
    "    elif (BMI<29.9):\n",
    "        print(name + \", You are OverWeight\")\n",
    "    elif (BMI<34.9):\n",
    "        print(name + \", You are Obese\")\n",
    "    elif (BMI<39.9):\n",
    "        print(name + \", You are Severely Obese\")\n",
    "    else:\n",
    "        print(name + \", You are Morbidly Obese\")    \n",
    "        \n",
    "else:\n",
    "    print(\"Enter Valid Inputs\")"
   ]
  },
  {
   "cell_type": "code",
   "execution_count": null,
   "id": "a08700f6",
   "metadata": {},
   "outputs": [],
   "source": []
  },
  {
   "cell_type": "code",
   "execution_count": null,
   "id": "f5e980d6",
   "metadata": {},
   "outputs": [],
   "source": [
    "Under 18.5\tUnderweight\tMinimal\n",
    "18.5 - 24.9\tNormal Weight\tMinimal\n",
    "25 - 29.9\tOverweight\tIncreased\n",
    "30 - 34.9\tObese\tHigh\n",
    "35 - 39.9\tSeverely Obese\tVery High\n",
    "40 and over\tMorbidly Obese\tExtremely High"
   ]
  },
  {
   "cell_type": "code",
   "execution_count": 18,
   "id": "13c5b6ee",
   "metadata": {},
   "outputs": [
    {
     "name": "stdout",
     "output_type": "stream",
     "text": [
      "Denvar Mulwale, You are OverWeight\n"
     ]
    }
   ],
   "source": [
    "if BMI >0:\n",
    "    if (BMI<18.5):\n",
    "        print(name +\", You are Underweight\")\n",
    "    elif (BMI<=24.9):\n",
    "        print(name + \", You are Normal Weight\")\n",
    "    elif (BMI<29.9):\n",
    "        print(name + \", You are OverWeight\")\n",
    "    elif (BMI<34.9):\n",
    "        print(name + \", You are Obese\")\n",
    "    elif (BMI<39.9):\n",
    "        print(name + \", You are Severely Obese\")\n",
    "    else:\n",
    "        print(name + \", You are Morbidly Obese\")    \n",
    "        \n",
    "else:\n",
    "    print(\"Enter Valid Inputs\")"
   ]
  },
  {
   "cell_type": "code",
   "execution_count": null,
   "id": "91bbea43",
   "metadata": {},
   "outputs": [],
   "source": []
  }
 ],
 "metadata": {
  "kernelspec": {
   "display_name": "Python 3 (ipykernel)",
   "language": "python",
   "name": "python3"
  },
  "language_info": {
   "codemirror_mode": {
    "name": "ipython",
    "version": 3
   },
   "file_extension": ".py",
   "mimetype": "text/x-python",
   "name": "python",
   "nbconvert_exporter": "python",
   "pygments_lexer": "ipython3",
   "version": "3.10.9"
  }
 },
 "nbformat": 4,
 "nbformat_minor": 5
}
