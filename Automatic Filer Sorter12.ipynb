{
 "cells": [
  {
   "cell_type": "markdown",
   "id": "ca14bf85",
   "metadata": {},
   "source": [
    "# Automatic File Sorter in File Explorer"
   ]
  },
  {
   "cell_type": "code",
   "execution_count": 1,
   "id": "a142de63",
   "metadata": {},
   "outputs": [],
   "source": [
    "import os, shutil"
   ]
  },
  {
   "cell_type": "code",
   "execution_count": 5,
   "id": "b4eee2a1",
   "metadata": {},
   "outputs": [],
   "source": [
    "path = r\"E:/Data Analytics BootCamp_AlexTheAnalysts/Python/Python Project/\""
   ]
  },
  {
   "cell_type": "code",
   "execution_count": 8,
   "id": "739ecc54",
   "metadata": {},
   "outputs": [],
   "source": [
    "file_name = os.listdir(path)"
   ]
  },
  {
   "cell_type": "code",
   "execution_count": 10,
   "id": "bb724814",
   "metadata": {},
   "outputs": [
    {
     "name": "stdout",
     "output_type": "stream",
     "text": [
      "['AKU_Logo.png', 'csv files', 'DSC_7599.jpg', 'image files', 'Quick Notes.txt', 'text files', 'US-Holiday-Dates-2004-2021.csv']\n"
     ]
    }
   ],
   "source": [
    "print(file_name)"
   ]
  },
  {
   "cell_type": "code",
   "execution_count": 12,
   "id": "0860479f",
   "metadata": {},
   "outputs": [
    {
     "name": "stdout",
     "output_type": "stream",
     "text": [
      "E:/Data Analytics BootCamp_AlexTheAnalysts/Python/Python Project/csv files\n",
      "E:/Data Analytics BootCamp_AlexTheAnalysts/Python/Python Project/image files\n",
      "E:/Data Analytics BootCamp_AlexTheAnalysts/Python/Python Project/text files\n"
     ]
    }
   ],
   "source": [
    "folder_names = ['csv files' ,'image files', 'text files']\n",
    "\n",
    "for loop in range (0,3):\n",
    "    if not os.path.exists(path + folder_names[loop]):\n",
    "        print (path + folder_names[loop])\n",
    "        os.makedirs(path + folder_names[loop])\n",
    "        \n",
    "for file in file_name:\n",
    "    if \".csv\" in file and not os.path.exists(path + \"csv files/\" + file):\n",
    "        shutil.move(path + file, path + \"csv files/\" + file)\n",
    "    elif \".png\" in file and not os.path.exists(path + \"image files/\" + file):\n",
    "        shutil.move(path + file, path + \"image files/\" + file)\n",
    "    elif \".jpg\" in file and not os.path.exists(path + \"image files/\" + file):\n",
    "        shutil.move(path + file, path + \"image files/\" + file)\n",
    "    if \".txt\" in file and not os.path.exists(path + \"text files/\" + file):\n",
    "        shutil.move(path + file, path + \"text files/\" + file)        "
   ]
  },
  {
   "cell_type": "code",
   "execution_count": null,
   "id": "061d91f6",
   "metadata": {},
   "outputs": [],
   "source": []
  },
  {
   "cell_type": "code",
   "execution_count": 11,
   "id": "d7b982c4",
   "metadata": {},
   "outputs": [
    {
     "name": "stdout",
     "output_type": "stream",
     "text": [
      "There are files in this path that were not moved!\n",
      "There are files in this path that were not moved!\n",
      "There are files in this path that were not moved!\n",
      "There are files in this path that were not moved!\n",
      "There are files in this path that were not moved!\n",
      "There are files in this path that were not moved!\n"
     ]
    }
   ],
   "source": []
  },
  {
   "cell_type": "code",
   "execution_count": null,
   "id": "888faa8d",
   "metadata": {},
   "outputs": [],
   "source": []
  }
 ],
 "metadata": {
  "kernelspec": {
   "display_name": "Python 3 (ipykernel)",
   "language": "python",
   "name": "python3"
  },
  "language_info": {
   "codemirror_mode": {
    "name": "ipython",
    "version": 3
   },
   "file_extension": ".py",
   "mimetype": "text/x-python",
   "name": "python",
   "nbconvert_exporter": "python",
   "pygments_lexer": "ipython3",
   "version": "3.10.9"
  }
 },
 "nbformat": 4,
 "nbformat_minor": 5
}
